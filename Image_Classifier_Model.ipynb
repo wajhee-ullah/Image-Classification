{
  "nbformat": 4,
  "nbformat_minor": 0,
  "metadata": {
    "colab": {
      "name": "Image Classifier Model.ipynb",
      "provenance": [],
      "collapsed_sections": [],
      "authorship_tag": "ABX9TyPVYcONgbXW2HXpqjYrB6eL",
      "include_colab_link": true
    },
    "kernelspec": {
      "name": "python3",
      "display_name": "Python 3"
    },
    "language_info": {
      "name": "python"
    },
    "accelerator": "GPU"
  },
  "cells": [
    {
      "cell_type": "markdown",
      "metadata": {
        "id": "view-in-github",
        "colab_type": "text"
      },
      "source": [
        "<a href=\"https://colab.research.google.com/github/wajhee-ullah/Image-Classification/blob/main/Image_Classifier_Model.ipynb\" target=\"_parent\"><img src=\"https://colab.research.google.com/assets/colab-badge.svg\" alt=\"Open In Colab\"/></a>"
      ]
    },
    {
      "cell_type": "markdown",
      "metadata": {
        "id": "az2Cn26cv1Si"
      },
      "source": [
        "Import Dataset"
      ]
    },
    {
      "cell_type": "code",
      "metadata": {
        "id": "n6ZjxpWnwZ8T"
      },
      "source": [
        "from keras.datasets import cifar10\n",
        "import matplotlib.pyplot as plt\n",
        " \n",
        "(train_X,train_Y),(test_X,test_Y)=cifar10.load_data()"
      ],
      "execution_count": null,
      "outputs": []
    },
    {
      "cell_type": "markdown",
      "metadata": {
        "id": "ezNucKtBv5xp"
      },
      "source": [
        "Show some images from the training Dataset"
      ]
    },
    {
      "cell_type": "code",
      "metadata": {
        "id": "T9hxiVy-Ub79"
      },
      "source": [
        "n=6\n",
        "plt.figure(figsize=(20,10))\n",
        "for i in range(n):\n",
        "  plt.subplot(330+1+i)\n",
        "  plt.imshow(train_X[i])\n",
        "plt.show()\n"
      ],
      "execution_count": null,
      "outputs": []
    },
    {
      "cell_type": "markdown",
      "metadata": {
        "id": "NPWM2hp5wByf"
      },
      "source": [
        "Import layers and modules for model"
      ]
    },
    {
      "cell_type": "code",
      "metadata": {
        "id": "qyPN9lWPtMJo"
      },
      "source": [
        "from keras.models import Sequential\n",
        "from keras.layers import Dense\n",
        "from keras.layers import Dropout\n",
        "from keras.layers import Flatten\n",
        "from keras.constraints import maxnorm\n",
        "from keras.optimizers import SGD\n",
        "from keras.layers.convolutional import Conv2D\n",
        "from keras.layers.convolutional import MaxPooling2D\n",
        "from keras.utils import np_utils"
      ],
      "execution_count": 6,
      "outputs": []
    },
    {
      "cell_type": "markdown",
      "metadata": {
        "id": "Lu423ob_wL9v"
      },
      "source": [
        "Convert the pixel value to float and normalize"
      ]
    },
    {
      "cell_type": "code",
      "metadata": {
        "id": "D7WbP6j3ta_h"
      },
      "source": [
        "train_X=train_X.astype('float32')\n",
        "test_X=test_X.astype('float32')\n",
        "\n",
        "train_X=train_X/255.0\n",
        "test_X=test_X/255.0"
      ],
      "execution_count": 7,
      "outputs": []
    },
    {
      "cell_type": "code",
      "metadata": {
        "id": "owNjxj7EuFXy"
      },
      "source": [
        "train_Y=np_utils.to_categorical(train_Y)\n",
        "test_Y=np_utils.to_categorical(test_Y)\n",
        " \n",
        "num_classes=test_Y.shape[1]"
      ],
      "execution_count": 8,
      "outputs": []
    },
    {
      "cell_type": "markdown",
      "metadata": {
        "id": "7cnCFhmDyHVg"
      },
      "source": [
        "Create Sequential Model and Add Layers"
      ]
    },
    {
      "cell_type": "code",
      "metadata": {
        "id": "MkA2Z2BRxbw3"
      },
      "source": [
        "model=Sequential()\n",
        "model.add(Conv2D(32,(3,3),input_shape=(32,32,3),\n",
        "    padding='same',activation='relu',\n",
        "    kernel_constraint=maxnorm(3)))\n",
        "model.add(Dropout(0.2))\n",
        "model.add(Conv2D(32,(3,3),activation='relu',padding='same',kernel_constraint=maxnorm(3)))\n",
        "model.add(MaxPooling2D(pool_size=(2,2)))\n",
        "model.add(Flatten())\n",
        "model.add(Dense(512,activation='relu',kernel_constraint=maxnorm(3)))\n",
        "model.add(Dropout(0.5))\n",
        "model.add(Dense(num_classes, activation='softmax'))"
      ],
      "execution_count": 9,
      "outputs": []
    },
    {
      "cell_type": "markdown",
      "metadata": {
        "id": "kuYj97XayYX-"
      },
      "source": [
        "Configure Optimizer and Compile"
      ]
    },
    {
      "cell_type": "code",
      "metadata": {
        "id": "DShqoSFEyd-A"
      },
      "source": [
        "sgd=SGD(lr=0.01,momentum=0.9,decay=(0.01/25),nesterov=False)\n",
        " \n",
        "model.compile(loss='categorical_crossentropy',\n",
        "  optimizer=sgd,\n",
        "  metrics=['accuracy'])"
      ],
      "execution_count": null,
      "outputs": []
    },
    {
      "cell_type": "markdown",
      "metadata": {
        "id": "Wbt3gBKIyi64"
      },
      "source": [
        "Model Summary"
      ]
    },
    {
      "cell_type": "code",
      "metadata": {
        "id": "PDLevpxBykWH"
      },
      "source": [
        "model.summary()"
      ],
      "execution_count": null,
      "outputs": []
    },
    {
      "cell_type": "markdown",
      "metadata": {
        "id": "pzpBbCKmys4o"
      },
      "source": [
        "Train Model and test Accuracy"
      ]
    },
    {
      "cell_type": "code",
      "metadata": {
        "id": "BjTZqCEwyxae"
      },
      "source": [
        "model.fit(train_X,train_Y,\n",
        "    validation_data=(test_X,test_Y),\n",
        "    epochs=25,batch_size=32)\n",
        "\n",
        "_,acc=model.evaluate(test_X,test_Y)\n",
        "print(acc*100)"
      ],
      "execution_count": null,
      "outputs": []
    },
    {
      "cell_type": "markdown",
      "metadata": {
        "id": "IzuTUDkN6VP_"
      },
      "source": [
        "Saving Model"
      ]
    },
    {
      "cell_type": "code",
      "metadata": {
        "id": "yCkCxT0a8Q13"
      },
      "source": [
        "model.save(\"model1_cifar_25epoch.h5\")"
      ],
      "execution_count": 13,
      "outputs": []
    },
    {
      "cell_type": "markdown",
      "metadata": {
        "id": "iIdHHDejUhaJ"
      },
      "source": [
        "Making a Prediction"
      ]
    },
    {
      "cell_type": "code",
      "metadata": {
        "id": "uzprh1JXUcfc"
      },
      "source": [
        "results={\n",
        "   0:'aeroplane',\n",
        "   1:'automobile',\n",
        "   2:'bird',\n",
        "   3:'cat',\n",
        "   4:'deer',\n",
        "   5:'dog',\n",
        "   6:'frog',\n",
        "   7:'horse',\n",
        "   8:'ship',\n",
        "   9:'truck'\n",
        "}\n",
        "from PIL import Image\n",
        "import numpy as np\n",
        "im=Image.open(\"IMAGE_PATH\")\n",
        " \n",
        "im=im.resize((32,32))\n",
        "im=np.expand_dims(im,axis=0)\n",
        "im=np.array(im)\n",
        "pred=model.predict_classes([im])[0]\n",
        "print(pred,results[pred])"
      ],
      "execution_count": null,
      "outputs": []
    }
  ]
}