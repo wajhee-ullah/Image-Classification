{
  "nbformat": 4,
  "nbformat_minor": 0,
  "metadata": {
    "colab": {
      "name": "Image Classifier Model.ipynb",
      "provenance": [],
      "collapsed_sections": [],
      "authorship_tag": "ABX9TyPVYcONgbXW2HXpqjYrB6eL",
      "include_colab_link": true
    },
    "kernelspec": {
      "name": "python3",
      "display_name": "Python 3"
    },
    "language_info": {
      "name": "python"
    },
    "accelerator": "GPU"
  },
  "cells": [
    {
      "cell_type": "markdown",
      "metadata": {
        "id": "view-in-github",
        "colab_type": "text"
      },
      "source": [
        "<a href=\"https://colab.research.google.com/github/wajhee-ullah/Image-Classification/blob/main/Image_Classifier_Model.ipynb\" target=\"_parent\"><img src=\"https://colab.research.google.com/assets/colab-badge.svg\" alt=\"Open In Colab\"/></a>"
      ]
    },
    {
      "cell_type": "markdown",
      "metadata": {
        "id": "az2Cn26cv1Si"
      },
      "source": [
        "Import Dataset"
      ]
    },
    {
      "cell_type": "code",
      "metadata": {
        "id": "n6ZjxpWnwZ8T",
        "colab": {
          "base_uri": "https://localhost:8080/"
        },
        "outputId": "d39bb06e-12ec-4010-fb83-44fdef967389"
      },
      "source": [
        "from keras.datasets import cifar10\n",
        "import matplotlib.pyplot as plt\n",
        " \n",
        "(train_X,train_Y),(test_X,test_Y)=cifar10.load_data()"
      ],
      "execution_count": 4,
      "outputs": [
        {
          "output_type": "stream",
          "text": [
            "Downloading data from https://www.cs.toronto.edu/~kriz/cifar-10-python.tar.gz\n",
            "170500096/170498071 [==============================] - 11s 0us/step\n",
            "170508288/170498071 [==============================] - 11s 0us/step\n"
          ],
          "name": "stdout"
        }
      ]
    },
    {
      "cell_type": "markdown",
      "metadata": {
        "id": "ezNucKtBv5xp"
      },
      "source": [
        "Show some images from the training Dataset"
      ]
    },
    {
      "cell_type": "code",
      "metadata": {
        "id": "T9hxiVy-Ub79"
      },
      "source": [
        "n=6\n",
        "plt.figure(figsize=(20,10))\n",
        "for i in range(n):\n",
        "  plt.subplot(330+1+i)\n",
        "  plt.imshow(train_X[i])\n",
        "plt.show()\n"
      ],
      "execution_count": null,
      "outputs": []
    },
    {
      "cell_type": "markdown",
      "metadata": {
        "id": "NPWM2hp5wByf"
      },
      "source": [
        "Import layers and modules for model"
      ]
    },
    {
      "cell_type": "code",
      "metadata": {
        "id": "qyPN9lWPtMJo"
      },
      "source": [
        "from keras.models import Sequential\n",
        "from keras.layers import Dense\n",
        "from keras.layers import Dropout\n",
        "from keras.layers import Flatten\n",
        "from keras.constraints import maxnorm\n",
        "from keras.optimizers import SGD\n",
        "from keras.layers.convolutional import Conv2D\n",
        "from keras.layers.convolutional import MaxPooling2D\n",
        "from keras.utils import np_utils"
      ],
      "execution_count": 6,
      "outputs": []
    },
    {
      "cell_type": "markdown",
      "metadata": {
        "id": "Lu423ob_wL9v"
      },
      "source": [
        "Convert the pixel value to float and normalize"
      ]
    },
    {
      "cell_type": "code",
      "metadata": {
        "id": "D7WbP6j3ta_h"
      },
      "source": [
        "train_X=train_X.astype('float32')\n",
        "test_X=test_X.astype('float32')\n",
        "\n",
        "train_X=train_X/255.0\n",
        "test_X=test_X/255.0"
      ],
      "execution_count": 7,
      "outputs": []
    },
    {
      "cell_type": "code",
      "metadata": {
        "id": "owNjxj7EuFXy"
      },
      "source": [
        "train_Y=np_utils.to_categorical(train_Y)\n",
        "test_Y=np_utils.to_categorical(test_Y)\n",
        " \n",
        "num_classes=test_Y.shape[1]"
      ],
      "execution_count": 8,
      "outputs": []
    },
    {
      "cell_type": "markdown",
      "metadata": {
        "id": "7cnCFhmDyHVg"
      },
      "source": [
        "Create Sequential Model and Add Layers"
      ]
    },
    {
      "cell_type": "code",
      "metadata": {
        "id": "MkA2Z2BRxbw3"
      },
      "source": [
        "model=Sequential()\n",
        "model.add(Conv2D(32,(3,3),input_shape=(32,32,3),\n",
        "    padding='same',activation='relu',\n",
        "    kernel_constraint=maxnorm(3)))\n",
        "model.add(Dropout(0.2))\n",
        "model.add(Conv2D(32,(3,3),activation='relu',padding='same',kernel_constraint=maxnorm(3)))\n",
        "model.add(MaxPooling2D(pool_size=(2,2)))\n",
        "model.add(Flatten())\n",
        "model.add(Dense(512,activation='relu',kernel_constraint=maxnorm(3)))\n",
        "model.add(Dropout(0.5))\n",
        "model.add(Dense(num_classes, activation='softmax'))"
      ],
      "execution_count": 9,
      "outputs": []
    },
    {
      "cell_type": "markdown",
      "metadata": {
        "id": "kuYj97XayYX-"
      },
      "source": [
        "Configure Optimizer and Compile"
      ]
    },
    {
      "cell_type": "code",
      "metadata": {
        "colab": {
          "base_uri": "https://localhost:8080/"
        },
        "id": "DShqoSFEyd-A",
        "outputId": "0328bb8c-b52b-4095-fda1-1cb3988ae47b"
      },
      "source": [
        "sgd=SGD(lr=0.01,momentum=0.9,decay=(0.01/25),nesterov=False)\n",
        " \n",
        "model.compile(loss='categorical_crossentropy',\n",
        "  optimizer=sgd,\n",
        "  metrics=['accuracy'])"
      ],
      "execution_count": 10,
      "outputs": [
        {
          "output_type": "stream",
          "text": [
            "/usr/local/lib/python3.7/dist-packages/tensorflow/python/keras/optimizer_v2/optimizer_v2.py:375: UserWarning: The `lr` argument is deprecated, use `learning_rate` instead.\n",
            "  \"The `lr` argument is deprecated, use `learning_rate` instead.\")\n"
          ],
          "name": "stderr"
        }
      ]
    },
    {
      "cell_type": "markdown",
      "metadata": {
        "id": "Wbt3gBKIyi64"
      },
      "source": [
        "Model Summary"
      ]
    },
    {
      "cell_type": "code",
      "metadata": {
        "colab": {
          "base_uri": "https://localhost:8080/"
        },
        "id": "PDLevpxBykWH",
        "outputId": "28cec7c7-5367-4e25-f411-dbac7ab7dff9"
      },
      "source": [
        "model.summary()"
      ],
      "execution_count": 11,
      "outputs": [
        {
          "output_type": "stream",
          "text": [
            "Model: \"sequential\"\n",
            "_________________________________________________________________\n",
            "Layer (type)                 Output Shape              Param #   \n",
            "=================================================================\n",
            "conv2d (Conv2D)              (None, 32, 32, 32)        896       \n",
            "_________________________________________________________________\n",
            "dropout (Dropout)            (None, 32, 32, 32)        0         \n",
            "_________________________________________________________________\n",
            "conv2d_1 (Conv2D)            (None, 32, 32, 32)        9248      \n",
            "_________________________________________________________________\n",
            "max_pooling2d (MaxPooling2D) (None, 16, 16, 32)        0         \n",
            "_________________________________________________________________\n",
            "flatten (Flatten)            (None, 8192)              0         \n",
            "_________________________________________________________________\n",
            "dense (Dense)                (None, 512)               4194816   \n",
            "_________________________________________________________________\n",
            "dropout_1 (Dropout)          (None, 512)               0         \n",
            "_________________________________________________________________\n",
            "dense_1 (Dense)              (None, 10)                5130      \n",
            "=================================================================\n",
            "Total params: 4,210,090\n",
            "Trainable params: 4,210,090\n",
            "Non-trainable params: 0\n",
            "_________________________________________________________________\n"
          ],
          "name": "stdout"
        }
      ]
    },
    {
      "cell_type": "markdown",
      "metadata": {
        "id": "pzpBbCKmys4o"
      },
      "source": [
        "Train Model and test Accuracy"
      ]
    },
    {
      "cell_type": "code",
      "metadata": {
        "colab": {
          "base_uri": "https://localhost:8080/"
        },
        "id": "BjTZqCEwyxae",
        "outputId": "42afac2d-238a-461e-97ce-9605448d61b4"
      },
      "source": [
        "model.fit(train_X,train_Y,\n",
        "    validation_data=(test_X,test_Y),\n",
        "    epochs=25,batch_size=32)\n",
        "\n",
        "_,acc=model.evaluate(test_X,test_Y)\n",
        "print(acc*100)"
      ],
      "execution_count": 12,
      "outputs": [
        {
          "output_type": "stream",
          "text": [
            "Epoch 1/25\n",
            "1563/1563 [==============================] - 61s 11ms/step - loss: 1.9003 - accuracy: 0.3020 - val_loss: 1.4655 - val_accuracy: 0.4717\n",
            "Epoch 2/25\n",
            "1563/1563 [==============================] - 17s 11ms/step - loss: 1.3769 - accuracy: 0.4997 - val_loss: 1.2302 - val_accuracy: 0.5555\n",
            "Epoch 3/25\n",
            "1563/1563 [==============================] - 17s 11ms/step - loss: 1.1932 - accuracy: 0.5729 - val_loss: 1.1169 - val_accuracy: 0.6018\n",
            "Epoch 4/25\n",
            "1563/1563 [==============================] - 17s 11ms/step - loss: 1.0534 - accuracy: 0.6223 - val_loss: 1.0298 - val_accuracy: 0.6407\n",
            "Epoch 5/25\n",
            "1563/1563 [==============================] - 17s 11ms/step - loss: 0.9465 - accuracy: 0.6643 - val_loss: 0.9606 - val_accuracy: 0.6619\n",
            "Epoch 6/25\n",
            "1563/1563 [==============================] - 17s 11ms/step - loss: 0.8390 - accuracy: 0.7033 - val_loss: 0.9333 - val_accuracy: 0.6693\n",
            "Epoch 7/25\n",
            "1563/1563 [==============================] - 17s 11ms/step - loss: 0.7714 - accuracy: 0.7285 - val_loss: 0.9179 - val_accuracy: 0.6817\n",
            "Epoch 8/25\n",
            "1563/1563 [==============================] - 17s 11ms/step - loss: 0.7020 - accuracy: 0.7551 - val_loss: 0.9169 - val_accuracy: 0.6833\n",
            "Epoch 9/25\n",
            "1563/1563 [==============================] - 17s 11ms/step - loss: 0.6338 - accuracy: 0.7763 - val_loss: 0.9343 - val_accuracy: 0.6874\n",
            "Epoch 10/25\n",
            "1563/1563 [==============================] - 16s 10ms/step - loss: 0.5935 - accuracy: 0.7888 - val_loss: 0.9116 - val_accuracy: 0.6933\n",
            "Epoch 11/25\n",
            "1563/1563 [==============================] - 16s 10ms/step - loss: 0.5348 - accuracy: 0.8117 - val_loss: 0.9174 - val_accuracy: 0.6963\n",
            "Epoch 12/25\n",
            "1563/1563 [==============================] - 16s 10ms/step - loss: 0.4877 - accuracy: 0.8277 - val_loss: 0.9090 - val_accuracy: 0.6999\n",
            "Epoch 13/25\n",
            "1563/1563 [==============================] - 16s 10ms/step - loss: 0.4500 - accuracy: 0.8392 - val_loss: 0.9087 - val_accuracy: 0.7023\n",
            "Epoch 14/25\n",
            "1563/1563 [==============================] - 16s 10ms/step - loss: 0.4308 - accuracy: 0.8485 - val_loss: 0.9398 - val_accuracy: 0.7019\n",
            "Epoch 15/25\n",
            "1563/1563 [==============================] - 16s 10ms/step - loss: 0.3965 - accuracy: 0.8603 - val_loss: 0.9666 - val_accuracy: 0.6964\n",
            "Epoch 16/25\n",
            "1563/1563 [==============================] - 16s 10ms/step - loss: 0.3589 - accuracy: 0.8731 - val_loss: 0.9733 - val_accuracy: 0.7035\n",
            "Epoch 17/25\n",
            "1563/1563 [==============================] - 16s 11ms/step - loss: 0.3383 - accuracy: 0.8826 - val_loss: 0.9567 - val_accuracy: 0.7046\n",
            "Epoch 18/25\n",
            "1563/1563 [==============================] - 16s 11ms/step - loss: 0.3184 - accuracy: 0.8889 - val_loss: 0.9758 - val_accuracy: 0.7054\n",
            "Epoch 19/25\n",
            "1563/1563 [==============================] - 16s 10ms/step - loss: 0.2977 - accuracy: 0.8955 - val_loss: 0.9926 - val_accuracy: 0.7028\n",
            "Epoch 20/25\n",
            "1563/1563 [==============================] - 16s 10ms/step - loss: 0.2741 - accuracy: 0.9039 - val_loss: 1.0331 - val_accuracy: 0.7023\n",
            "Epoch 21/25\n",
            "1563/1563 [==============================] - 16s 10ms/step - loss: 0.2658 - accuracy: 0.9083 - val_loss: 1.0256 - val_accuracy: 0.7070\n",
            "Epoch 22/25\n",
            "1563/1563 [==============================] - 16s 11ms/step - loss: 0.2489 - accuracy: 0.9141 - val_loss: 1.0367 - val_accuracy: 0.7037\n",
            "Epoch 23/25\n",
            "1563/1563 [==============================] - 16s 10ms/step - loss: 0.2337 - accuracy: 0.9181 - val_loss: 1.0591 - val_accuracy: 0.7076\n",
            "Epoch 24/25\n",
            "1563/1563 [==============================] - 16s 10ms/step - loss: 0.2216 - accuracy: 0.9226 - val_loss: 1.0512 - val_accuracy: 0.7081\n",
            "Epoch 25/25\n",
            "1563/1563 [==============================] - 16s 10ms/step - loss: 0.2160 - accuracy: 0.9261 - val_loss: 1.0920 - val_accuracy: 0.7092\n",
            "313/313 [==============================] - 1s 5ms/step - loss: 1.0920 - accuracy: 0.7092\n",
            "70.92000246047974\n"
          ],
          "name": "stdout"
        }
      ]
    },
    {
      "cell_type": "markdown",
      "metadata": {
        "id": "IzuTUDkN6VP_"
      },
      "source": [
        "Saving Model"
      ]
    },
    {
      "cell_type": "code",
      "metadata": {
        "id": "yCkCxT0a8Q13"
      },
      "source": [
        "model.save(\"model1_cifar_25epoch.h5\")"
      ],
      "execution_count": 13,
      "outputs": []
    },
    {
      "cell_type": "markdown",
      "metadata": {
        "id": "iIdHHDejUhaJ"
      },
      "source": [
        "Making a Prediction"
      ]
    },
    {
      "cell_type": "code",
      "metadata": {
        "id": "uzprh1JXUcfc"
      },
      "source": [
        "results={\n",
        "   0:'aeroplane',\n",
        "   1:'automobile',\n",
        "   2:'bird',\n",
        "   3:'cat',\n",
        "   4:'deer',\n",
        "   5:'dog',\n",
        "   6:'frog',\n",
        "   7:'horse',\n",
        "   8:'ship',\n",
        "   9:'truck'\n",
        "}\n",
        "from PIL import Image\n",
        "import numpy as np\n",
        "im=Image.open(\"IMAGE_PATH\")\n",
        " \n",
        "im=im.resize((32,32))\n",
        "im=np.expand_dims(im,axis=0)\n",
        "im=np.array(im)\n",
        "pred=model.predict_classes([im])[0]\n",
        "print(pred,results[pred])"
      ],
      "execution_count": null,
      "outputs": []
    }
  ]
}